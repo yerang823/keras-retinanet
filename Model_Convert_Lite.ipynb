{
 "cells": [
  {
   "cell_type": "code",
   "execution_count": 1,
   "id": "2dfdea35",
   "metadata": {
    "ExecuteTime": {
     "end_time": "2021-08-09T06:52:52.436284Z",
     "start_time": "2021-08-09T06:52:50.550623Z"
    }
   },
   "outputs": [
    {
     "ename": "ModuleNotFoundError",
     "evalue": "No module named 'matplotlib'",
     "output_type": "error",
     "traceback": [
      "\u001b[0;31m---------------------------------------------------------------------------\u001b[0m",
      "\u001b[0;31mModuleNotFoundError\u001b[0m                       Traceback (most recent call last)",
      "\u001b[0;32m<ipython-input-1-fae4fc4e7858>\u001b[0m in \u001b[0;36m<module>\u001b[0;34m\u001b[0m\n\u001b[1;32m      4\u001b[0m \u001b[0;32mfrom\u001b[0m \u001b[0mtensorflow\u001b[0m\u001b[0;34m.\u001b[0m\u001b[0mkeras\u001b[0m \u001b[0;32mimport\u001b[0m \u001b[0mbackend\u001b[0m \u001b[0;32mas\u001b[0m \u001b[0mK\u001b[0m\u001b[0;34m\u001b[0m\u001b[0;34m\u001b[0m\u001b[0m\n\u001b[1;32m      5\u001b[0m \u001b[0;34m\u001b[0m\u001b[0m\n\u001b[0;32m----> 6\u001b[0;31m \u001b[0;32mimport\u001b[0m \u001b[0mmatplotlib\u001b[0m\u001b[0;34m.\u001b[0m\u001b[0mpylab\u001b[0m \u001b[0;32mas\u001b[0m \u001b[0mplt\u001b[0m\u001b[0;34m\u001b[0m\u001b[0;34m\u001b[0m\u001b[0m\n\u001b[0m\u001b[1;32m      7\u001b[0m \u001b[0;34m\u001b[0m\u001b[0m\n\u001b[1;32m      8\u001b[0m \u001b[0;32mfrom\u001b[0m \u001b[0mtensorflow\u001b[0m\u001b[0;34m.\u001b[0m\u001b[0mkeras\u001b[0m\u001b[0;34m.\u001b[0m\u001b[0mutils\u001b[0m \u001b[0;32mimport\u001b[0m \u001b[0;34m*\u001b[0m\u001b[0;34m\u001b[0m\u001b[0;34m\u001b[0m\u001b[0m\n",
      "\u001b[0;31mModuleNotFoundError\u001b[0m: No module named 'matplotlib'"
     ]
    }
   ],
   "source": [
    "import os\n",
    "import tensorflow as tf\n",
    "\n",
    "from tensorflow.keras import backend as K\n",
    "\n",
    "import matplotlib.pylab as plt\n",
    "\n",
    "from tensorflow.keras.utils import *\n",
    "from tensorflow.keras.models import *\n",
    "from tensorflow.keras.layers import *\n",
    "from tensorflow.keras.callbacks import *\n",
    "from tensorflow.keras.optimizers import *\n",
    "from tensorflow.keras.regularizers import *\n",
    "\n",
    "\n",
    "os.environ[\"CUDA_VISIBLE_DEVICES\"]=\"0\""
   ]
  },
  {
   "cell_type": "code",
   "execution_count": 2,
   "id": "e0bb3180",
   "metadata": {
    "ExecuteTime": {
     "end_time": "2021-08-09T06:52:52.455112Z",
     "start_time": "2021-08-09T06:52:52.449958Z"
    }
   },
   "outputs": [
    {
     "data": {
      "text/plain": [
       "'/root/gcubme_ai/Workspace/JG_Jeong/IMT_Segmentation/code/Module'"
      ]
     },
     "execution_count": 2,
     "metadata": {},
     "output_type": "execute_result"
    }
   ],
   "source": [
    "pwd"
   ]
  },
  {
   "cell_type": "code",
   "execution_count": null,
   "id": "c56c193a",
   "metadata": {},
   "outputs": [],
   "source": [
    "'../data/data_set_7/SONON/dcm/11084213/00002070_20210615/0001_19700101_000000/IN_00001_0000044551.dcm'"
   ]
  },
  {
   "cell_type": "code",
   "execution_count": 3,
   "id": "5eae9f66",
   "metadata": {
    "ExecuteTime": {
     "end_time": "2021-07-12T04:57:36.358638Z",
     "start_time": "2021-07-12T04:57:36.352461Z"
    }
   },
   "outputs": [
    {
     "data": {
      "text/plain": [
       "0"
      ]
     },
     "execution_count": 3,
     "metadata": {},
     "output_type": "execute_result"
    }
   ],
   "source": [
    "a = [10, 0]\n",
    "\n",
    "np.min(np.array(a))"
   ]
  },
  {
   "cell_type": "code",
   "execution_count": 4,
   "id": "f5f1c2b6",
   "metadata": {
    "ExecuteTime": {
     "end_time": "2021-08-09T06:53:25.894461Z",
     "start_time": "2021-08-09T06:53:25.883528Z"
    }
   },
   "outputs": [],
   "source": [
    "def dice_coef(y_true, y_pred, smooth=0.001):\n",
    "    y_true_f = K.flatten(y_true)\n",
    "    y_pred_f = K.flatten(y_pred)\n",
    "    intersection = K.sum(y_true_f * y_pred_f)\n",
    "    return (2. * intersection + smooth) / (K.sum(y_true_f) + K.sum(y_pred_f) + smooth)\n",
    "\n",
    "\n",
    "def dice_coef_loss(y_true, y_pred):\n",
    "    return 1 - dice_coef(y_true, y_pred)\n",
    "\n",
    "\n",
    "get_custom_objects().update({\n",
    "   \n",
    "    'dice_coef' : dice_coef,\n",
    "    'dice_coef_loss' : dice_coef_loss,\n",
    "        \n",
    "})"
   ]
  },
  {
   "cell_type": "code",
   "execution_count": 4,
   "id": "f21fb2d8",
   "metadata": {
    "ExecuteTime": {
     "end_time": "2021-07-12T02:55:09.159188Z",
     "start_time": "2021-07-12T02:55:02.619223Z"
    }
   },
   "outputs": [],
   "source": [
    "image = np.load('../data/data_set_7/NPY/SONON/processing/SONON_image.npy')\n",
    "label = np.load('../data/data_set_7/NPY/SONON/processing/SONON_label.npy')"
   ]
  },
  {
   "cell_type": "code",
   "execution_count": 6,
   "id": "cdac8bef",
   "metadata": {
    "ExecuteTime": {
     "end_time": "2021-08-09T06:54:12.031476Z",
     "start_time": "2021-08-09T06:54:12.005105Z"
    }
   },
   "outputs": [
    {
     "ename": "OSError",
     "evalue": "SavedModel file does not exist at: ../result/model_save/model_IMT_data_set_7_SONON.h5/{saved_model.pbtxt|saved_model.pb}",
     "output_type": "error",
     "traceback": [
      "\u001b[0;31m---------------------------------------------------------------------------\u001b[0m",
      "\u001b[0;31mOSError\u001b[0m                                   Traceback (most recent call last)",
      "\u001b[0;32m<ipython-input-6-8f5e62c6f392>\u001b[0m in \u001b[0;36m<module>\u001b[0;34m\u001b[0m\n\u001b[0;32m----> 1\u001b[0;31m \u001b[0mmodel\u001b[0m \u001b[0;34m=\u001b[0m \u001b[0mload_model\u001b[0m\u001b[0;34m(\u001b[0m\u001b[0;34m'../result/model_save/model_IMT_data_set_7_SONON.h5'\u001b[0m\u001b[0;34m)\u001b[0m\u001b[0;34m\u001b[0m\u001b[0;34m\u001b[0m\u001b[0m\n\u001b[0m",
      "\u001b[0;32m~/anaconda3/envs/powerai_162/lib/python3.6/site-packages/tensorflow_core/python/keras/saving/save.py\u001b[0m in \u001b[0;36mload_model\u001b[0;34m(filepath, custom_objects, compile, callbacks)\u001b[0m\n\u001b[1;32m    144\u001b[0m \u001b[0;34m\u001b[0m\u001b[0m\n\u001b[1;32m    145\u001b[0m   \u001b[0;32mif\u001b[0m \u001b[0misinstance\u001b[0m\u001b[0;34m(\u001b[0m\u001b[0mfilepath\u001b[0m\u001b[0;34m,\u001b[0m \u001b[0msix\u001b[0m\u001b[0;34m.\u001b[0m\u001b[0mstring_types\u001b[0m\u001b[0;34m)\u001b[0m\u001b[0;34m:\u001b[0m\u001b[0;34m\u001b[0m\u001b[0;34m\u001b[0m\u001b[0m\n\u001b[0;32m--> 146\u001b[0;31m     \u001b[0mloader_impl\u001b[0m\u001b[0;34m.\u001b[0m\u001b[0mparse_saved_model\u001b[0m\u001b[0;34m(\u001b[0m\u001b[0mfilepath\u001b[0m\u001b[0;34m)\u001b[0m\u001b[0;34m\u001b[0m\u001b[0;34m\u001b[0m\u001b[0m\n\u001b[0m\u001b[1;32m    147\u001b[0m     \u001b[0;32mreturn\u001b[0m \u001b[0msaved_model_load\u001b[0m\u001b[0;34m.\u001b[0m\u001b[0mload\u001b[0m\u001b[0;34m(\u001b[0m\u001b[0mfilepath\u001b[0m\u001b[0;34m,\u001b[0m \u001b[0mcompile\u001b[0m\u001b[0;34m)\u001b[0m\u001b[0;34m\u001b[0m\u001b[0;34m\u001b[0m\u001b[0m\n\u001b[1;32m    148\u001b[0m \u001b[0;34m\u001b[0m\u001b[0m\n",
      "\u001b[0;32m~/anaconda3/envs/powerai_162/lib/python3.6/site-packages/tensorflow_core/python/saved_model/loader_impl.py\u001b[0m in \u001b[0;36mparse_saved_model\u001b[0;34m(export_dir)\u001b[0m\n\u001b[1;32m     81\u001b[0m                   (export_dir,\n\u001b[1;32m     82\u001b[0m                    \u001b[0mconstants\u001b[0m\u001b[0;34m.\u001b[0m\u001b[0mSAVED_MODEL_FILENAME_PBTXT\u001b[0m\u001b[0;34m,\u001b[0m\u001b[0;34m\u001b[0m\u001b[0;34m\u001b[0m\u001b[0m\n\u001b[0;32m---> 83\u001b[0;31m                    constants.SAVED_MODEL_FILENAME_PB))\n\u001b[0m\u001b[1;32m     84\u001b[0m \u001b[0;34m\u001b[0m\u001b[0m\n\u001b[1;32m     85\u001b[0m \u001b[0;34m\u001b[0m\u001b[0m\n",
      "\u001b[0;31mOSError\u001b[0m: SavedModel file does not exist at: ../result/model_save/model_IMT_data_set_7_SONON.h5/{saved_model.pbtxt|saved_model.pb}"
     ]
    }
   ],
   "source": [
    "model = load_model('../result/model_save/model_IMT_data_set_7_SONON.h5')"
   ]
  },
  {
   "cell_type": "code",
   "execution_count": null,
   "id": "1ca64c98",
   "metadata": {
    "ExecuteTime": {
     "end_time": "2021-08-09T06:52:59.782937Z",
     "start_time": "2021-08-09T06:53:00.493Z"
    }
   },
   "outputs": [],
   "source": [
    "model_1 = tf.lite.Interpreter('./Module/model_IMT_data_set_7_SONON_lite.tflite')"
   ]
  },
  {
   "cell_type": "code",
   "execution_count": 6,
   "id": "7e616224",
   "metadata": {
    "ExecuteTime": {
     "end_time": "2021-07-12T02:55:10.888683Z",
     "start_time": "2021-07-12T02:55:10.885454Z"
    }
   },
   "outputs": [],
   "source": [
    "model_1.allocate_tensors()"
   ]
  },
  {
   "cell_type": "code",
   "execution_count": 7,
   "id": "3f9d3f0b",
   "metadata": {
    "ExecuteTime": {
     "end_time": "2021-07-12T02:55:11.482282Z",
     "start_time": "2021-07-12T02:55:11.475596Z"
    }
   },
   "outputs": [],
   "source": [
    "input_details = model_1.get_input_details()\n",
    "output_details = model_1.get_output_details()"
   ]
  },
  {
   "cell_type": "code",
   "execution_count": 8,
   "id": "09a2b79b",
   "metadata": {
    "ExecuteTime": {
     "end_time": "2021-07-12T02:55:11.850370Z",
     "start_time": "2021-07-12T02:55:11.845327Z"
    }
   },
   "outputs": [
    {
     "data": {
      "text/plain": [
       "[{'name': 'input_1',\n",
       "  'index': 1,\n",
       "  'shape': array([  1, 512, 512,   1], dtype=int32),\n",
       "  'dtype': numpy.float32,\n",
       "  'quantization': (0.0, 0)}]"
      ]
     },
     "execution_count": 8,
     "metadata": {},
     "output_type": "execute_result"
    }
   ],
   "source": [
    "input_details"
   ]
  },
  {
   "cell_type": "code",
   "execution_count": 9,
   "id": "40ec0d53",
   "metadata": {
    "ExecuteTime": {
     "end_time": "2021-07-12T02:55:13.629480Z",
     "start_time": "2021-07-12T02:55:13.620730Z"
    }
   },
   "outputs": [],
   "source": [
    "# Test model on random input data.\n",
    "input_shape = input_details[0]['shape']\n",
    "#input_data = np.array(np.random.random_sample(input_shape), dtype=np.float32)\n",
    "input_data = np.expand_dims(image[-2], axis=0) / 255"
   ]
  },
  {
   "cell_type": "code",
   "execution_count": 10,
   "id": "8d905a89",
   "metadata": {
    "ExecuteTime": {
     "end_time": "2021-07-12T02:55:14.866310Z",
     "start_time": "2021-07-12T02:55:14.859628Z"
    }
   },
   "outputs": [],
   "source": [
    "model_1.set_tensor(input_details[0]['index'], input_data)"
   ]
  },
  {
   "cell_type": "code",
   "execution_count": 11,
   "id": "57f78674",
   "metadata": {
    "ExecuteTime": {
     "end_time": "2021-07-12T02:55:17.355640Z",
     "start_time": "2021-07-12T02:55:15.331233Z"
    }
   },
   "outputs": [],
   "source": [
    "model_1.invoke()"
   ]
  },
  {
   "cell_type": "code",
   "execution_count": 12,
   "id": "c9d3287f",
   "metadata": {
    "ExecuteTime": {
     "end_time": "2021-07-12T02:55:18.503527Z",
     "start_time": "2021-07-12T02:55:18.497190Z"
    }
   },
   "outputs": [],
   "source": [
    "output_data = model_1.get_tensor(output_details[0]['index'])"
   ]
  },
  {
   "cell_type": "code",
   "execution_count": 19,
   "id": "12894fef",
   "metadata": {
    "ExecuteTime": {
     "end_time": "2021-07-12T02:55:58.182941Z",
     "start_time": "2021-07-12T02:55:58.172135Z"
    }
   },
   "outputs": [],
   "source": [
    "output_data = (output_data > 0.5) * 1"
   ]
  },
  {
   "cell_type": "code",
   "execution_count": 20,
   "id": "54dd69c8",
   "metadata": {
    "ExecuteTime": {
     "end_time": "2021-07-12T02:56:00.005508Z",
     "start_time": "2021-07-12T02:55:59.837741Z"
    }
   },
   "outputs": [
    {
     "data": {
      "text/plain": [
       "<matplotlib.image.AxesImage at 0x710647cead30>"
      ]
     },
     "execution_count": 20,
     "metadata": {},
     "output_type": "execute_result"
    },
    {
     "data": {
      "image/png": "[encoded data removed]",
      "text/plain": [
       "<Figure size 432x288 with 1 Axes>"
      ]
     },
     "metadata": {
      "needs_background": "light"
     },
     "output_type": "display_data"
    }
   ],
   "source": [
    "plt.figure()\n",
    "\n",
    "plt.imshow(output_data[0], cmap='gray')"
   ]
  },
  {
   "cell_type": "code",
   "execution_count": 21,
   "id": "6c191248",
   "metadata": {
    "ExecuteTime": {
     "end_time": "2021-07-12T01:52:51.838127Z",
     "start_time": "2021-07-12T01:52:47.926952Z"
    }
   },
   "outputs": [],
   "source": [
    "# Convert the model.\n",
    "converter = tf.lite.TFLiteConverter.from_keras_model(model_1)\n",
    "tflite_model = converter.convert()\n",
    "\n",
    "# Save the model.\n",
    "with open('../Module/model_IMT_data_set_7_SONON_lite.tflite', 'wb') as f:\n",
    "    \n",
    "    f.write(tflite_model)"
   ]
  },
  {
   "cell_type": "code",
   "execution_count": 4,
   "id": "208a80f0",
   "metadata": {
    "ExecuteTime": {
     "end_time": "2021-07-12T02:01:33.426039Z",
     "start_time": "2021-07-12T02:01:33.417076Z"
    }
   },
   "outputs": [],
   "source": [
    "def convert_model(model_path, save_model_path, model_name):\n",
    "    \n",
    "    \n",
    "    model = load_model(model_path)\n",
    "    \n",
    "    converter = tf.lite.TFLiteConverter.from_keras_model(model)\n",
    "    tflite_model = converter.convert()\n",
    "\n",
    "    with open(save_model_path + model_name + '.tflite', 'wb') as f:\n",
    "\n",
    "        f.write(tflite_model)"
   ]
  },
  {
   "cell_type": "code",
   "execution_count": 6,
   "id": "ea0b0de9",
   "metadata": {
    "ExecuteTime": {
     "end_time": "2021-07-12T02:02:25.815139Z",
     "start_time": "2021-07-12T02:02:16.847100Z"
    }
   },
   "outputs": [],
   "source": [
    "convert_model('../../result/model_save/model_IMT_data_set_7_SONON.h5', '../Module/', 'test')"
   ]
  },
  {
   "cell_type": "code",
   "execution_count": null,
   "id": "f27a574c",
   "metadata": {},
   "outputs": [],
   "source": []
  }
 ],
 "metadata": {
  "kernelspec": {
   "display_name": "Python 3",
   "language": "python",
   "name": "python3"
  },
  "language_info": {
   "codemirror_mode": {
    "name": "ipython",
    "version": 3
   },
   "file_extension": ".py",
   "mimetype": "text/x-python",
   "name": "python",
   "nbconvert_exporter": "python",
   "pygments_lexer": "ipython3",
   "version": "3.7.11"
  },
  "varInspector": {
   "cols": {
    "lenName": 16,
    "lenType": 16,
    "lenVar": 40
   },
   "kernels_config": {
    "python": {
     "delete_cmd_postfix": "",
     "delete_cmd_prefix": "del ",
     "library": "var_list.py",
     "varRefreshCmd": "print(var_dic_list())"
    },
    "r": {
     "delete_cmd_postfix": ") ",
     "delete_cmd_prefix": "rm(",
     "library": "var_list.r",
     "varRefreshCmd": "cat(var_dic_list()) "
    }
   },
   "types_to_exclude": [
    "module",
    "function",
    "builtin_function_or_method",
    "instance",
    "_Feature"
   ],
   "window_display": false
  }
 },
 "nbformat": 4,
 "nbformat_minor": 5
}
